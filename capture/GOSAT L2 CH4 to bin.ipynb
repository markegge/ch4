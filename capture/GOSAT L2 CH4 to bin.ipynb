{
 "cells": [
  {
   "cell_type": "code",
   "execution_count": 10,
   "metadata": {
    "collapsed": false
   },
   "outputs": [
    {
     "name": "stdout",
     "output_type": "stream",
     "text": [
      "(194L, 4L)\n",
      "(502L, 4L)\n",
      "(849L, 4L)\n",
      "(1215L, 4L)\n",
      "(1602L, 4L)\n",
      "(1943L, 4L)\n",
      "(2331L, 4L)\n",
      "(2733L, 4L)\n",
      "(3050L, 4L)\n",
      "(3343L, 4L)\n",
      "(3648L, 4L)\n",
      "(3865L, 4L)\n",
      "(4130L, 4L)\n",
      "(4410L, 4L)\n",
      "(4744L, 4L)\n",
      "[[162.880126953125, 59.387386322021484, 1442286695.074, 1.8243350982666016], [159.53147888183594, 54.598876953125, 1442286768.825, 1.8265677690505981], [159.52455139160156, 54.59268569946289, 1442286773.357, 1.820183277130127], [159.5192108154297, 54.588287353515625, 1442286778.044, 1.8425511121749878], [158.09283447265625, 52.14934539794922, 1442286837.89, 1.8393828868865967]]\n",
      "[162.880126953125, 59.387386322021484, 1442286695.074, 1.8243350982666016, 159.53147888183594, 54.598876953125, 1442286768.825, 1.8265677690505981, 159.52455139160156, 54.59268569946289]\n"
     ]
    }
   ],
   "source": [
    "import glob\n",
    "import h5py\n",
    "import numpy as np\n",
    "import array\n",
    "from os import listdir\n",
    "from os.path import isfile, join\n",
    "from datetime import datetime\n",
    "\n",
    "# set directory containing TANSO-FTS/GOSAT L2 CH4 mixing ratio amount (SWIR) product files\n",
    "# e.g. \"/Users/markegge/ch4/capture/1606280000-01/1606280000-01/GOSATTFTS20150915_02C02SV0260R16062800000.h5\"\n",
    "\n",
    "root_dir = \"c:/Users/markegge/work/ch4/capture/1606280000-01/1606280000-01\"\n",
    "\n",
    "def read_file(file_path):\n",
    "    f = h5py.File(file_path, 'r')\n",
    "    numObs = f.get('scanAttribute')['numScan'][0]\n",
    "    lats = f.get('Data').get('geolocation')['latitude'][:]\n",
    "    lons = f.get('Data').get('geolocation')['longitude'][:]\n",
    "    heights = f.get('Data').get('geolocation')['height'][:]\n",
    "    xch4s = f.get('Data').get('mixingRatio')['XCH4'][:]\n",
    "    times = f.get('scanAttribute')['time'][:]\n",
    "    epoch_times = []\n",
    "    for f in times:\n",
    "        seconds = (datetime.strptime(f, '%Y-%m-%d %H:%M:%S.%f') - datetime(1970, 1, 1)).total_seconds()\n",
    "        epoch_times.append(seconds)\n",
    "\n",
    "    vals = np.column_stack((lons, lats, epoch_times, xch4s))\n",
    "    return vals\n",
    "\n",
    "h5files = [f for f in listdir(root_dir) if isfile(join(root_dir, f)) and f[-2:] == 'h5']\n",
    "\n",
    "data = np.empty([1,4])\n",
    "first = True\n",
    "for file in h5files:\n",
    "    if first:\n",
    "        data = read_file(join(root_dir, file))\n",
    "        first = False\n",
    "    else:\n",
    "        data = np.vstack((data, read_file(join(root_dir, file))))\n",
    "    print data.shape\n",
    "\n",
    "# lons (x), lats (y), epoch_times (unix epoch), xch4s (ppmv)\n",
    "np.savetxt(\"values.csv\", data, delimiter=\",\", fmt=['%10d', '%3.7f', '%3.7f', '%1.7f']) \n",
    "l = data.tolist()\n",
    "print l[0:5]\n",
    "flat_list = [item for sublist in l for item in sublist]\n",
    "print flat_list[:10]\n",
    "array.array('f', flat_list).tofile(open('gosat.bin', 'wb'))"
   ]
  },
  {
   "cell_type": "code",
   "execution_count": null,
   "metadata": {
    "collapsed": true
   },
   "outputs": [],
   "source": []
  }
 ],
 "metadata": {
  "kernelspec": {
   "display_name": "Python 2",
   "language": "python",
   "name": "python2"
  },
  "language_info": {
   "codemirror_mode": {
    "name": "ipython",
    "version": 2
   },
   "file_extension": ".py",
   "mimetype": "text/x-python",
   "name": "python",
   "nbconvert_exporter": "python",
   "pygments_lexer": "ipython2",
   "version": "2.7.11"
  }
 },
 "nbformat": 4,
 "nbformat_minor": 0
}

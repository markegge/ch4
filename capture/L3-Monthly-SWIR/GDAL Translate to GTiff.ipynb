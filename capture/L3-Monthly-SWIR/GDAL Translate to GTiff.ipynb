{
 "cells": [
  {
   "cell_type": "code",
   "execution_count": 22,
   "metadata": {
    "collapsed": false
   },
   "outputs": [
    {
     "name": "stdout",
     "output_type": "stream",
     "text": [
      "gdal_translate -a_srs WGS84 -of \"GTiff\" -a_ullr -178.75 88.75 178.75 -88.75 HDF5:\"C:\\Users\\markegge\\work\\ch4\\capture\\L3-Monthly-SWIR\\GOSATTFTS2015100120151031_03C02SV0260.h5\"://Data/mixingRatio/XCH4 C:\\Users\\markegge\\work\\ch4\\capture\\L3-Monthly-SWIR\\GOSATTFTS2015100120151031_03C02SV0260.tiff\n",
      "Input file size is 144, 72\n",
      "0...10...20...30...40...50...60...70...80...90...100 - done.\n",
      "gdal_translate -a_srs WGS84 -of \"GTiff\" -a_ullr -178.75 88.75 178.75 -88.75 HDF5:\"C:\\Users\\markegge\\work\\ch4\\capture\\L3-Monthly-SWIR\\GOSATTFTS2015110120151130_03C02SV0260.h5\"://Data/mixingRatio/XCH4 C:\\Users\\markegge\\work\\ch4\\capture\\L3-Monthly-SWIR\\GOSATTFTS2015110120151130_03C02SV0260.tiff\n",
      "Input file size is 144, 72\n",
      "0...10...20...30...40...50...60...70...80...90...100 - done.\n",
      "gdal_translate -a_srs WGS84 -of \"GTiff\" -a_ullr -178.75 88.75 178.75 -88.75 HDF5:\"C:\\Users\\markegge\\work\\ch4\\capture\\L3-Monthly-SWIR\\GOSATTFTS2015120120151231_03C02SV0260.h5\"://Data/mixingRatio/XCH4 C:\\Users\\markegge\\work\\ch4\\capture\\L3-Monthly-SWIR\\GOSATTFTS2015120120151231_03C02SV0260.tiff\n",
      "Input file size is 144, 72\n",
      "0...10...20...30...40...50...60...70...80...90...100 - done.\n",
      "gdal_translate -a_srs WGS84 -of \"GTiff\" -a_ullr -178.75 88.75 178.75 -88.75 HDF5:\"C:\\Users\\markegge\\work\\ch4\\capture\\L3-Monthly-SWIR\\GOSATTFTS2016010120160131_03C02SV0260.h5\"://Data/mixingRatio/XCH4 C:\\Users\\markegge\\work\\ch4\\capture\\L3-Monthly-SWIR\\GOSATTFTS2016010120160131_03C02SV0260.tiff\n",
      "Input file size is 144, 72\n",
      "0...10...20...30...40...50...60...70...80...90...100 - done.\n",
      "gdal_translate -a_srs WGS84 -of \"GTiff\" -a_ullr -178.75 88.75 178.75 -88.75 HDF5:\"C:\\Users\\markegge\\work\\ch4\\capture\\L3-Monthly-SWIR\\GOSATTFTS2016020120160229_03C02SV0260.h5\"://Data/mixingRatio/XCH4 C:\\Users\\markegge\\work\\ch4\\capture\\L3-Monthly-SWIR\\GOSATTFTS2016020120160229_03C02SV0260.tiff\n",
      "Input file size is 144, 72\n",
      "0...10...20...30...40...50...60...70...80...90...100 - done.\n"
     ]
    }
   ],
   "source": [
    "import h5py, array, math\n",
    "import numpy as np\n",
    "from os import listdir\n",
    "from os.path import isfile, join\n",
    "from datetime import datetime\n",
    "\n",
    "root_dir = \"C:\\Users\\markegge\\work\\ch4\\capture\\L3-Monthly-SWIR\"\n",
    "\n",
    "def convert(input_file):\n",
    "    proj = '-a_srs WGS84'\n",
    "    bounds = '-a_ullr -178.75 88.75 178.75 -88.75'\n",
    "    outputFormat = '-of \"GTiff\"'\n",
    "    inputString = \"HDF5:\" + '\"' + input_file + '\"' + \"://Data/mixingRatio/XCH4\"\n",
    "    outputFile = input_file[:-3] + \".tiff\"\n",
    "    command = 'gdal_translate ' + proj + ' ' + outputFormat + ' ' + bounds + ' ' + \\\n",
    "          inputString + ' ' + outputFile\n",
    "    print command    \n",
    "    !$command\n",
    "    \n",
    "if root_dir.count('\\\\') > 0:\n",
    "    root_dir = root_dir.replace('\\\\', '/')\n",
    "    \n",
    "h5files = [f for f in listdir(root_dir) if isfile(join(root_dir, f)) and f[-2:] == 'h5']\n",
    "root_dir = root_dir.replace('/', '\\\\')\n",
    "                  \n",
    "for f in h5files:\n",
    "    convert(join(root_dir, f))"
   ]
  },
  {
   "cell_type": "code",
   "execution_count": 7,
   "metadata": {
    "collapsed": true
   },
   "outputs": [],
   "source": [
    "\n"
   ]
  },
  {
   "cell_type": "code",
   "execution_count": null,
   "metadata": {
    "collapsed": true
   },
   "outputs": [],
   "source": []
  }
 ],
 "metadata": {
  "kernelspec": {
   "display_name": "Python 2",
   "language": "python",
   "name": "python2"
  },
  "language_info": {
   "codemirror_mode": {
    "name": "ipython",
    "version": 2
   },
   "file_extension": ".py",
   "mimetype": "text/x-python",
   "name": "python",
   "nbconvert_exporter": "python",
   "pygments_lexer": "ipython2",
   "version": "2.7.11"
  }
 },
 "nbformat": 4,
 "nbformat_minor": 0
}
